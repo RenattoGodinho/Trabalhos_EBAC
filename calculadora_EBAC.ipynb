{
  "nbformat": 4,
  "nbformat_minor": 0,
  "metadata": {
    "colab": {
      "provenance": []
    },
    "kernelspec": {
      "name": "python3",
      "display_name": "Python 3"
    },
    "language_info": {
      "name": "python"
    }
  },
  "cells": [
    {
      "cell_type": "code",
      "execution_count": null,
      "metadata": {
        "colab": {
          "base_uri": "https://localhost:8080/"
        },
        "id": "N8SJRC8jtr2-",
        "outputId": "b68d40e4-26ed-4b10-b0c1-900d42b020ac"
      },
      "outputs": [
        {
          "output_type": "stream",
          "name": "stdout",
          "text": [
            "Calculadora\n"
          ]
        }
      ],
      "source": [
        "print('Calculadora')\n",
        "\n",
        "num1 = int(input('Digite o primeiro número: '))\n",
        "num2 = int(input('Digite o segundo número: '))\n",
        "num3 = int(input('Digite o terceiro número: '))\n",
        "\n",
        "print ('escolha as operações : ')\n",
        "print ('1 - soma')\n",
        "print ('2 - subtração')\n",
        "print ('3 - multiplicação')\n",
        "print ('4 - divisão')\n",
        "print ('5 - sair')\n",
        "\n",
        "opção = float(input('digite a operação desejada : '))\n",
        "\n",
        "if opção == 1:\n",
        "  print('a soma é : ', num1 + num2 + num3)\n",
        "elif opção == 2:\n",
        "  print('a subtração é : ', num1 - num2 - num3)\n",
        "elif opção == 3:\n",
        "    print('a multiplicação é : ', num1 * num2 * num3)\n",
        "elif opção == 4:\n",
        "    print('a divisão é : ', num1 / num2 / num3)\n",
        ""
      ]
    }
  ]
}